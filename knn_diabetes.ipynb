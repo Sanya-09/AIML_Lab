import pandas as pd
import numpy as np
import seaborn as sns
import matplotlib.pyplot as plt

df = pd.read_csv('diabetes.csv')
df

x = df.drop('Outcome' , axis = 1)
df.head(5)

from sklearn.preprocessing import MinMaxScaler
scaler = MinMaxScaler()
x = scaler.fit_transform(x)
x
y = df['Outcome']
y

from sklearn.model_selection import train_test_split
xtrain , xtest , ytrain , ytest = train_test_split(x , y , test_size = 0.3 , random_state = 1)

from sklearn.neighbors import KNeighborsClassifier
knn = KNeighborsClassifier(n_neighbors = 1)
knn.fit(xtrain , ytrain)

ypred = knn.predict(xtest)
ypred

ytest

from sklearn.metrics import confusion_matrix , classification_report

print(confusion_matrix(ytest , ypred))

print(classification_report(ytest , ypred))

import numpy as np
error_rate = []

for i in range(1,40):
    knn = KNeighborsClassifier(n_neighbors = i)
    knn.fit(xtrain , ytrain)
    pred_i = knn.predict(xtest)
    error_rate.append(np.mean(pred_i != ytest))

plt.figure(figsize =(10,6))

plt.plot(range(1,40) ,error_rate, color='blue' , linestyle = '--' , markersize = 10 , markerfacecolor = 'red' , marker = 'o' )

plt.title('k versus error rate')

plt.xlabel('K')
plt.ylabel('Error Rate')
