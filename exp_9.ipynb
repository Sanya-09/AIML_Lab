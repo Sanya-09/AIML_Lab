import pandas as pd
from sklearn.model_selection import train_test_split
from imblearn.over_sampling import SMOTE
from sklearn.ensemble import RandomForestClassifier
from sklearn.metrics import classification_report
# Sample Spotify dataset
data = pd.read_csv('imbalanced_data.csv')
data = {
    'Track ID': [1, 2, 3, 4, 5, 6, 7, 8, 9, 10],
    'Track Name': ['Song A', 'Song B', 'Song C', 'Song D', 'Song E', 'Song F', 'Song G', 'Song H', 'Song I', 'Song J'],
    'Artist': ['Artist 1', 'Artist 2', 'Artist 3', 'Artist 4', 'Artist 5', 'Artist 6', 'Artist 7', 'Artist 8', 'Artist 9', 'Artist 10'],
    'Genre': ['Pop', 'Pop', 'Rock', 'Pop', 'Rock', 'Rock', 'Pop', 'Jazz', 'Jazz', 'Jazz'],
    'Popularity Score': [85, 90, 70, 75, 60, 65, 80, 50, 55, 45]
}

df = pd.DataFrame(data)
# Encode categorical variable
df['Genre'] = df['Genre'].astype('category').cat.codes  # Convert genres to numerical codes
# Split data into features and target
X = df.drop(['Track ID', 'Track Name', 'Artist', 'Genre'], axis=1)
y = df['Genre']

# Split data into training and testing sets
X_train, X_test, y_train, y_test = train_test_split(X, y, test_size=0.2, random_state=42)
# Check class distribution
print("Class distribution before SMOTE:")
print(y_train.value_counts())

# Apply SMOTE to the training data with adjusted k_neighbors
smote = SMOTE(random_state=42, k_neighbors=1)  # Set k_neighbors to 1
X_resampled, y_resampled = smote.fit_resample(X_train, y_train)

# Train a model on the resampled data
model = RandomForestClassifier()
model.fit(X_resampled, y_resampled)

# Evaluate the model
y_pred = model.predict(X_test)
print(classification_report(y_test, y_pred))
