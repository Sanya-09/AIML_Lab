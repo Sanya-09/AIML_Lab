import numpy as np
import pandas as pd
import matplotlib.pyplot as plt
import seaborn as sns
from sklearn import datasets

iris = datasets.load_iris()
df=pd.DataFrame(iris.data , columns = iris.feature_names)
df.head()

df.info()
df.describe()
df.shape

# K-MEAN CLUSTERING
x = df.iloc[:,[0,1,2,3]].values
x

from sklearn.cluster import KMeans

wc = []

for i in range(1, 11):
    kmeans = KMeans(n_clusters=i, init='k-means++',
                    max_iter=300, n_init=10, random_state=0)
    kmeans.fit(x)
    wc.append(kmeans.inertia_)

#plotting the line graph 
plt.plot(range(1,11),wc)
plt.title('The elbow method')
plt.xlabel('Number of Cluster')
plt.ylabel('WCSS')
plt.show()

#creating k mean classifier
kmeans = KMeans (n_clusters = 3, init = 'k-means++',
                max_iter= 300 , n_init = 10 , random_state = 0 )
y_kmeans = kmeans.fit_predict(x)

# visualize the graph 
plt.scatter(x[y_kmeans == 0 , 0], x[y_kmeans == 0 , 1], s=100, c='red', label='Iris-Setosa')
plt.scatter(x[y_kmeans == 1 , 0], x[y_kmeans == 1 , 1], s=100, c='green', label='Iris-Versicolor')
plt.scatter(x[y_kmeans == 2 , 0], x[y_kmeans == 2 , 1], s=100, c='blue', label='Iris-Virginica')

# plotting centroid
plt.scatter(kmeans.cluster_centers_[:, 0], kmeans.cluster_centers_[:, 1], s=100, c='yellow', label='Centroids')

plt.title('Clusters of Iris Species')
plt.xlabel('Feature 1')
plt.ylabel('Feature 2')
plt.legend()
plt.show()
