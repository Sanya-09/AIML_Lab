import pandas as pd
import numpy as np
import seaborn as sns
import matplotlib.pyplot as plt

# Step 1: Load the dataset
data = pd.read_csv('exp6_data.csv')

#Step 2: Simulate missing values by randomly setting somr values to NaN for demostration
data_missing = data.copy()
data_missing.loc[2,'Odometer (KM)'] = np.nan # Simulate the missing value in Age 
data_missing.loc[3,'Doors'] = np.nan # Simulate the missing value in Salary 

#Step 3: Handling missing values
# Filling missing numerical values which the median (avoiding chained assignment)
data_missing['Odometer (KM)'] = data_missing['Odometer (KM)'].fillna(data_missing['Odometer (KM)']).median()
data_missing['Doors'] = data_missing['Doors'].fillna(data_missing['Doors']).median()

#Step 4: Detecting outliners using the IQR: interquarritle range method:
Q1 = data_missing[['Odometer (KM)','Doors']].quantile(0.25)
Q3 = data_missing[['Odometer (KM)','Doors']].quantile(0.75)
IQR = Q3 - Q1

#Identifying outliers (1.5 * IQR RULE)
outliers = ((data_missing[['Odometer (KM)','Doors']] < (Q1 - 1.5 * IQR)) | 
            (data_missing[['Odometer (KM)','Doors']] > (Q3 + 1.5 * IQR)))
            
# Capping outliers : for each column, if outlier, replace with the max/min allowed 
data_no_outliers = data_missing.copy()
for column in ['Odometer (KM)','Doors']:
    lower_bound = Q1[column] - 1.5 * IQR[column]
    upper_bound = Q3[column] + 1.5 * IQR[column]

# Replace values below the lower bound
data_no_outliers[column] = np.where(data_no_outliers[column]< lower_bound , lower_bound , data_no_outliers[column])

# Replace values below the upper bound
data_no_outliers[column] = np.where(data_no_outliers[column] > upper_bound , upper_bound , data_no_outliers[column])

#Step 5: Comparing Values

#Finding changes after missing value handling
missing_values_changes = data_missing.compare(data)

#Finding changes after outliers handling
outlier_values_changes = data_no_outliers.compare(data_missing)

#Displaying differences
print("\n Changes After Handling Missing values")
print(missing_values_changes)

print("\n Changes After Handling Outliers")
print(outlier_values_changes)

#Step 6: Visualizing the effect of outlier treatment
plt.figure(figsize=(12,6))
plt.subplot(1 ,2 ,1)
sns.boxplot(data = data_missing[['Odometer (KM)','Doors']])
plt.title('Before Outlier Handling')

plt.subplot(1,2,2)
sns.boxplot(data = data_no_outliers[['Odometer (KM)','Doors']])
plt.title('After Outlier Handling')

plt.tight_layout()
plt.show()
