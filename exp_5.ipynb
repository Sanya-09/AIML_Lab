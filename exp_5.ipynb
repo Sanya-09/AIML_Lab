import pandas as pd
import seaborn as sns
import matplotlib.pyplot as plt

#load your dataset (adjust path if necessary)
data = pd.read_csv("clean_data.csv")

#plot 1: countplot for 'Age' without palette warning
sns.countplot(x='Age',data=data)
plt.title('Age Distribution')
plt.show()

#plot 2: countplot for 'Salary' without palette warning
sns.countplot(x='Salary',data=data)
plt.title('Salary Distribution')
plt.show()

#plot 3: countplot for 'Departmet' without palette warning
sns.countplot(x='Department',data=data)
plt.title('Departmet Distribution')
plt.show()
 
#plot4: Heatmap for numerical columns only (age and salary)
#since 'Name' and 'Department' are strings, they are excluded

sns.heatmap(data[['Age','Salary']].corr(), annot=True, cmap='coolwarm',linewidths=0.5)
plt.title('Correlation Heatmap')
plt.show()
