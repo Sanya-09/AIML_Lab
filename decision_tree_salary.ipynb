# Step 1: Importing necessary libraries
import pandas as pd
from sklearn.model_selection import train_test_split
from sklearn.tree import DecisionTreeRegressor
from sklearn.metrics import mean_squared_error, r2_score
from sklearn.preprocessing import LabelEncoder

# Step 2: Load the dataset
# For example, we assume you have a dataset with the following columns:
# 'YearsExperience', 'EducationLevel', 'Industry', 'Salary'
df = pd.read_csv('salaries.csv')

# Step 3: Preprocess the data

# Example: Encode categorical features (if any)
label_encoder = LabelEncoder()

# If 'EducationLevel' is a categorical feature, we will encode it
df['job'] = label_encoder.fit_transform(df['job'])

# If 'Industry' is a categorical feature, we will encode it as well
df['degree'] = label_encoder.fit_transform(df['degree'])

# Split the dataset into features (X) and target (y)
X = df.drop(columns='salary_more_than_100k')  # Features
y = df['salary_more_than_100k']  # Target variable (Salary)

# Step 4: Split the dataset into training and testing sets
X_train, X_test, y_train, y_test = train_test_split(X, y, test_size=0.2, random_state=42)

# Step 5: Train the Decision Tree model
model = DecisionTreeRegressor(random_state=42)
model.fit(X_train, y_train)

# Step 6: Make predictions on the test set
y_pred = model.predict(X_test)

# Step 7: Evaluate the model
mse = mean_squared_error(y_test, y_pred)
r2 = r2_score(y_test, y_pred)

print(f'Mean Squared Error: {mse}')
print(f'R2 Score: {r2}')
