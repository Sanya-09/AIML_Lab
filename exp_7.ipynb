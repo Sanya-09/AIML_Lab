import pandas as pd
import numpy as np
import matplotlib.pyplot as plt
from sklearn.preprocessing import StandardScaler, OneHotEncoder
from sklearn.compose import ColumnTransformer
from sklearn.pipeline import Pipeline

# Load dataset
data = pd.read_csv("diabetes.csv")

df = pd.DataFrame(data)
print("Original DataFrame:")
print(df.head())

# Define the features
X = df[['Age', 'Insulin', 'SkinThickness']]

# Preprocessing: Scaling numeric features and encoding categorical features
preprocessor = ColumnTransformer(
    transformers=[
        ('num', StandardScaler(), ['Age', 'Insulin']),
        ('cat', OneHotEncoder(sparse_output=False), ['SkinThickness'])  # OneHotEncoder should output dense matrix
    ]
)

# Create a pipeline that includes preprocessing
pipeline = Pipeline(steps=[('preprocessor', preprocessor)])

# Fit and transform the data
X_processed = pipeline.fit_transform(X)


# Get column names for scaled and one-hot encoded features
# Numeric feature names
numeric_features = pipeline.named_steps['preprocessor'].transformers_[0][1].get_feature_names_out(['Age', 'Insulin'])

# One-hot encoded feature names for SkinThickness
categorical_features = pipeline.named_steps['preprocessor'].transformers_[1][1].get_feature_names_out(['SkinThickness'])


# Combine all feature names
column_names = list(numeric_features) + list(categorical_features)

# Convert the result back to a DataFrame with correct column names
df_processed = pd.DataFrame(X_processed, columns=column_names)

print("\nProcessed DataFrame:")
print(df_processed.head())

# Plotting the results
plt.figure(figsize=(12, 6))

# Original Age vs Insulin
plt.subplot(1, 2, 1)
plt.scatter(df['Age'], df['BloodPressure'], color='green')
plt.title('Original Data: Age vs BloodPressure')
plt.xlabel('Age')
plt.ylabel('BloodPressure')

# Processed Age vs Insulin
plt.subplot(1, 2, 2)
plt.scatter(df_processed['Age'], df_processed['BloodPressure'], color='orange')
plt.title('Processed Data: Age vs BloodPressure (Scaled)')
plt.xlabel('Scaled Age')
plt.ylabel('Scaled BloodPressure')

plt.tight_layout()
plt.show()
