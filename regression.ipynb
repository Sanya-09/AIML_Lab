# homeprices.csv
#y-mx+b
#price=m*area+b
import pandas as pd
import seaborn as sns
from sklearn.linear_model import LinearRegression

df=pd.read_csv("homeprices.csv")
df

sns.scatterplot(data=df,x='area',y='price')

reg=LinearRegression()
reg.fit(df[['area']],df.price)

#predict the price of 3300 sft house
reg.predict([[3300]])
#find the coefficient. This is slope m

print(reg.coef_)
#find the intercept. This is b

print(reg.intercept_)
#if we substitute m and b values in y=mx+b

#we get the predicted value above
y=135.7876123*3300+180616.43835616432
y # displays 628715.7534151643

#find the accuracy level of the model by finding r-squared values
from sklearn.metrics import r2_score
y_original=df.price
y_predicted=reg.predict(df[['area']])
R_square=r2_score(y_original,y_predicted)
print('r squared value', R_square)
#display a scatter plot with a regression line
sns.lmplot(data=df,x='area',y='price')
