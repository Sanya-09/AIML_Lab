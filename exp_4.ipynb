import pandas as pd 

#load the data from CSV file
data = pd.read_csv('student_marks.csv')

#display basic information about the dataset
print("Number of rows:" ,data.shape[0])
print("Number of columns:" ,data.shape[0])
print("\n first five rows of the dataset:")
print(data.head())
print("Size of the dataset:" , data.size)

#display the number of missing values in each column
print("\n Number of missing values in each column:")
print(data.isnull().sum())

#display basic statistics for numerical column
print("\n Sum of numerical columns: ")
print(data.sum(numeric_only=True))

print("\n Average of numerical columns: ")
print(data.mean(numeric_only=True))

print("\n Minimum values of numerical columns: ")
print(data.min(numeric_only=True))

print("\n Maximum values of numerical columns: ")
print(data.max(numeric_only=True))

# Exporting data to a new CSV file
data.to_csv('exported_data2.csv',index=False)
