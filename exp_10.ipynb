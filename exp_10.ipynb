import pandas as pd
import numpy as np
import matplotlib.pyplot as plt
import seaborn as sns

# Generate a sample dataset
np.random.seed(42)
data = {
   'Category': ['A', 'B', 'C', 'D', 'E'],
   'Scores': np.random.rand(5) * 100
}
df = pd.DataFrame(data)
# Set the style for seaborn
sns.set(style="whitegrid")
# 1. Line Plot
plt.figure(figsize=(10, 6))
plt.plot(df['Category'], df['Values'], marker='o', color='b', label='Values')
plt.title('Line Plot of Values by Category')
plt.xlabel('Category')
plt.ylabel('Values')
plt.legend()
plt.grid()
plt.show()
# 2. Bar Plot
plt.figure(figsize=(10, 6))
sns.barplot(x='Category', y='Values', data=df, palette='viridis')
plt.title('Bar Plot of Values by Category')
plt.xlabel('Category')
plt.ylabel('Values')
plt.show()

# 3. Histogram
plt.figure(figsize=(10, 6))
plt.hist(df['Scores'], bins=5, color='orange', edgecolor='black')
plt.title('Histogram of Scores')
plt.xlabel('Scores')
plt.ylabel('Frequency')
plt.grid(axis='y')
plt.show()
# 4. Box Plot
plt.figure(figsize=(10, 6))
sns.boxplot(x='Category', y='Scores', data=df, palette='Set2')
plt.title('Box Plot of Scores by Category')
plt.xlabel('Category')
plt.ylabel('Scores')
plt.show()
# 5. Heatmap
# Create a correlation matrix using only numeric columns
correlation_matrix = df.select_dtypes(include=[np.number]).corr()

plt.figure(figsize=(8, 6))
sns.heatmap(correlation_matrix, annot=True, cmap='coolwarm', fmt='.2f')
plt.title('Heatmap of Correlation Matrix')
plt.show()
